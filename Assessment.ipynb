{
 "cells": [
  {
   "cell_type": "markdown",
   "id": "088eaff4",
   "metadata": {},
   "source": [
    "1. Create a function in python to read the text file and replace specific content\n",
    "of the file.\n",
    "\n",
    "File name example.txt\n",
    "Origin file content ----- This is a placement assignment\n",
    "Replace string ------ Placement should be replaced by screening.\n",
    "\n",
    "Replaced file content ------ This is a screening assignment"
   ]
  },
  {
   "cell_type": "code",
   "execution_count": 1,
   "id": "f9532314",
   "metadata": {},
   "outputs": [
    {
     "data": {
      "text/plain": [
       "'C:\\\\Users\\\\Admin\\\\iNeuron\\\\Practise Folder'"
      ]
     },
     "execution_count": 1,
     "metadata": {},
     "output_type": "execute_result"
    }
   ],
   "source": [
    "import os\n",
    "os.getcwd()"
   ]
  },
  {
   "cell_type": "code",
   "execution_count": 13,
   "id": "1d7ca79d",
   "metadata": {},
   "outputs": [
    {
     "name": "stdout",
     "output_type": "stream",
     "text": [
      "This is a placement assignment\n"
     ]
    }
   ],
   "source": [
    "#Creating and Writing the original string into the file\n",
    "\n",
    "file = open('example.txt','w+')\n",
    "original_string = \"This is a placement assignment\"\n",
    "\n",
    "file.truncate(0)\n",
    "file.write(original_string)\n",
    "\n",
    "file.close()\n",
    "\n",
    "with open('example.txt') as f:\n",
    "    text = f.read()\n",
    "    print(text)\n"
   ]
  },
  {
   "cell_type": "code",
   "execution_count": 17,
   "id": "940fb16e",
   "metadata": {},
   "outputs": [
    {
     "name": "stdout",
     "output_type": "stream",
     "text": [
      "This is a screening assignment\n"
     ]
    }
   ],
   "source": [
    "#Replacing the intended string in example.txt\n",
    "\n",
    "replace_string = \"screening\"\n",
    "capture_string = \"placement\"\n",
    "\n",
    "fout = open('example.txt','r+')\n",
    "\n",
    "with open('example.txt','r') as fin:\n",
    "    for line in fin:\n",
    "        fout.write(line.replace(capture_string,replace_string))\n",
    "        print(line)"
   ]
  },
  {
   "cell_type": "markdown",
   "id": "f7f59031",
   "metadata": {},
   "source": [
    "2. Demonstrate use of abstract class, multiple inheritance and decorator in\n",
    "python using examples."
   ]
  },
  {
   "cell_type": "code",
   "execution_count": 18,
   "id": "70d72e7d",
   "metadata": {},
   "outputs": [
    {
     "name": "stdout",
     "output_type": "stream",
     "text": [
      "This is a solar star\n",
      "This is a Hot Star\n",
      "This is a Red Dwarf Star\n",
      "This is a Red Giant Star\n",
      "This is a White Dwarf Star\n"
     ]
    }
   ],
   "source": [
    "#Abstract Class in Python\n",
    "\n",
    "from abc import ABC, abstractmethod\n",
    "\n",
    "class Stars(ABC):\n",
    "    def star_type(self):\n",
    "        pass\n",
    "    \n",
    "class Solar_Star(Stars):\n",
    "    def star_type(self):\n",
    "        print(\"This is a solar star\")\n",
    "        \n",
    "class Hot_Star(Stars):\n",
    "    def star_type(self):\n",
    "        print(\"This is a Hot Star\")\n",
    "        \n",
    "\n",
    "class Red_Star(Stars):\n",
    "    def star_type(self):\n",
    "        print(\"This is a Red Dwarf Star\")\n",
    "        \n",
    "class Giant_Star(Stars):\n",
    "    def star_type(self):\n",
    "        print(\"This is a Red Giant Star\")   \n",
    "\n",
    "class White_Star(Stars):\n",
    "    def star_type(self):\n",
    "        print(\"This is a White Dwarf Star\")\n",
    "        \n",
    "\n",
    "s = Solar_Star()\n",
    "s.star_type()\n",
    "\n",
    "h = Hot_Star()\n",
    "h.star_type()\n",
    "\n",
    "r = Red_Star()\n",
    "r.star_type()\n",
    "\n",
    "g = Giant_Star()\n",
    "g.star_type()\n",
    "\n",
    "w = White_Star()\n",
    "w.star_type()"
   ]
  },
  {
   "cell_type": "code",
   "execution_count": 32,
   "id": "d04a15d0",
   "metadata": {},
   "outputs": [
    {
     "name": "stdout",
     "output_type": "stream",
     "text": [
      "Flying car Object\n",
      "Takeoff the Plane\n",
      "Fly the Plane\n"
     ]
    }
   ],
   "source": [
    "#multiple inheritance\n",
    "\n",
    "class Plane:\n",
    "    def start(self):\n",
    "        print('Fly the Plane')\n",
    "\n",
    "    def go(self):\n",
    "        print('Starting')\n",
    "\n",
    "\n",
    "class Takeoff(Plane):\n",
    "    def start(self):\n",
    "        print('Takeoff the Plane')\n",
    "        super().start()\n",
    "\n",
    "    def go(self):\n",
    "        print('Taking Off')\n",
    "\n",
    "\n",
    "class FlyingCar(Takeoff, Plane):\n",
    "    def start(self):\n",
    "        print(\"Flying car Object\")\n",
    "        super().start()\n",
    "\n",
    "f = FlyingCar()\n",
    "f.start()\n"
   ]
  },
  {
   "cell_type": "code",
   "execution_count": 59,
   "id": "0a4e8320",
   "metadata": {},
   "outputs": [
    {
     "name": "stdout",
     "output_type": "stream",
     "text": [
      "104\n",
      "Time taken to add the two numbers are:  summation 2.0019173622131348\n"
     ]
    }
   ],
   "source": [
    "# Decorators , We are calculating the time taken to add two numbers by passing \n",
    "import time\n",
    "import math\n",
    " \n",
    "#The decorator function\n",
    "def calculate_time(func):\n",
    "\n",
    "    def inner_function(*args, **kwargs):\n",
    " \n",
    "        begin = time.time()\n",
    "         \n",
    "        func(*args, **kwargs)\n",
    "\n",
    "        end = time.time()\n",
    "        print(\"Time taken to add the two numbers are: \", func.__name__, end - begin)\n",
    " \n",
    "    return inner_function\n",
    " \n",
    " \n",
    " \n",
    "# this can be added to any function present,\n",
    "# in this case to calculate a factorial\n",
    "@calculate_time\n",
    "def summation(a,b):\n",
    " \n",
    "    # sleep 2 seconds because it takes very less time\n",
    "    # so that you can see the actual difference\n",
    "    time.sleep(2)\n",
    "    print(a+b)\n",
    " \n",
    "\n",
    "a=5\n",
    "b=99\n",
    "summation(a,b)"
   ]
  }
 ],
 "metadata": {
  "kernelspec": {
   "display_name": "Python 3 (ipykernel)",
   "language": "python",
   "name": "python3"
  },
  "language_info": {
   "codemirror_mode": {
    "name": "ipython",
    "version": 3
   },
   "file_extension": ".py",
   "mimetype": "text/x-python",
   "name": "python",
   "nbconvert_exporter": "python",
   "pygments_lexer": "ipython3",
   "version": "3.8.12"
  }
 },
 "nbformat": 4,
 "nbformat_minor": 5
}
